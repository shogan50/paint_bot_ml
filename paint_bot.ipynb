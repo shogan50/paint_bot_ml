{
 "cells": [
  {
   "cell_type": "code",
   "execution_count": 51,
   "metadata": {},
   "outputs": [],
   "source": [
    "import math\n",
    "\n",
    "class paint_bot():\n",
    "    def __init__(self,r):\n",
    "        self.r = r  # length of rope\n",
    "        self.cmd_x = 0 # commanded position\n",
    "        self.x = 0\n",
    "        self.dist_to_go = 0\n",
    "        self.v = 0\n",
    "        self.theta = math.pi * 3 / 2  # theta is measured relative to trolly\n",
    "        self.omega = 0  # d theta / dt\n",
    "        self.alpha = 0  # d omega / dt\n",
    "        self.t = 0 \n",
    "        self.max_v = 150 # mm/s\n",
    "        self.g = -9800 #mm /s^2\n",
    "        self.acc_dec = .2\n",
    "        self.acc_dec_dist = self.max_v*self.acc_dec/2\n",
    "        self.acc = self.max_v / self.acc_dec \n",
    "        self.tp_x = 0\n",
    "        self.damping = .00001 * r\n",
    "    def cmd(self,cmd_x):\n",
    "        self.cmd_x = cmd_x\n",
    "        \n",
    "    def update(self,t):\n",
    "        dt = t-self.t\n",
    "        self.t = t\n",
    "        v_old = self.v\n",
    "        self.dist_to_go = self.cmd_x - self.x\n",
    "        sign = 1 if self.dist_to_go >=0 else -1\n",
    "        \n",
    "        limiting_decel_v = math.sqrt(2 * self.acc*abs(self.dist_to_go))\n",
    "        \n",
    "        limiting_accel_v = self.v + self.acc * dt\n",
    "        \n",
    "        self.v = min([limiting_accel_v,self.max_v,limiting_decel_v]) * sign\n",
    "        if dt>0:\n",
    "            realized_acc = (v_old-self.v)/dt\n",
    "        else: \n",
    "            print(\"dt = 0!  Something's fishy\")\n",
    "            realized_acc = 0\n",
    "        self.x = self.x + self.v*dt\n",
    "        \n",
    "        self.alpha = -math.sin(self.theta)/self.r*realized_acc + self.g*math.cos(self.theta)/self.r - self.omega*self.damping\n",
    "        self.omega = self.omega + self.alpha * dt\n",
    "        self.theta = self.theta + self.omega * dt \n",
    "        self.tp_x = self.x + math.cos(self.theta) * self.r"
   ]
  },
  {
   "cell_type": "code",
   "execution_count": 56,
   "metadata": {},
   "outputs": [
    {
     "name": "stdout",
     "output_type": "stream",
     "text": [
      "bot.x bot.theta\n"
     ]
    },
    {
     "data": {
      "image/png": "[encoded data removed]",
      "text/plain": [
       "<matplotlib.figure.Figure at 0x1a662581a58>"
      ]
     },
     "metadata": {},
     "output_type": "display_data"
    }
   ],
   "source": [
    "import matplotlib.pyplot as plt\n",
    "\n",
    "bot = paint_bot(6000)\n",
    "bot.cmd(150)\n",
    "print('bot.x','bot.theta')\n",
    "t = .05\n",
    "t_arr = []\n",
    "x_arr = []\n",
    "tp_x_arr = []\n",
    "\n",
    "while t < 5:\n",
    "    bot.update(t)\n",
    "#     print(\"bot.x\",'{:01.1f}'.format(bot.x),\"dist to go:\",'{:06.2f}'.format(bot.dist_to_go),\"v\",'{:06.2f}'.format(bot.v),\n",
    "#          \"theta\",'{:01.3f}'.format(bot.theta))\n",
    "    t_arr.append(t)\n",
    "    x_arr.append(bot.x)\n",
    "    tp_x_arr.append(bot.tp_x)\n",
    "    t+=.05\n",
    "plt.plot(t_arr,x_arr,t_arr,tp_x_arr)\n",
    "plt.show()"
   ]
  },
  {
   "cell_type": "code",
   "execution_count": 5,
   "metadata": {},
   "outputs": [
    {
     "data": {
      "text/plain": [
       "0.0"
      ]
     },
     "execution_count": 5,
     "metadata": {},
     "output_type": "execute_result"
    }
   ],
   "source": [
    "import math\n",
    "\n",
    "math.sin(0) "
   ]
  }
 ],
 "metadata": {
  "kernelspec": {
   "display_name": "Python 3",
   "language": "python",
   "name": "python3"
  },
  "language_info": {
   "codemirror_mode": {
    "name": "ipython",
    "version": 3
   },
   "file_extension": ".py",
   "mimetype": "text/x-python",
   "name": "python",
   "nbconvert_exporter": "python",
   "pygments_lexer": "ipython3",
   "version": "3.6.3"
  }
 },
 "nbformat": 4,
 "nbformat_minor": 2
}
